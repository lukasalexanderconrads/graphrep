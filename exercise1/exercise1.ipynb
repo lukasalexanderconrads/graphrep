{
 "cells": [
  {
   "cell_type": "code",
   "execution_count": 38,
   "metadata": {
    "scrolled": true
   },
   "outputs": [],
   "source": [
    "import igraph\n",
    "import numpy as np"
   ]
  },
  {
   "cell_type": "code",
   "execution_count": 39,
   "metadata": {},
   "outputs": [],
   "source": [
    "g = igraph.Graph.Read_Pickle('ogbn-arxiv.pickle')"
   ]
  },
  {
   "cell_type": "markdown",
   "metadata": {},
   "source": [
    "## Task 1"
   ]
  },
  {
   "cell_type": "code",
   "execution_count": 40,
   "metadata": {},
   "outputs": [
    {
     "name": "stdout",
     "output_type": "stream",
     "text": [
      "number of vertices: 169343\n",
      "number of edges: 1166243\n"
     ]
    }
   ],
   "source": [
    "print('number of vertices:', g.vcount())\n",
    "print('number of edges:', g.ecount())"
   ]
  },
  {
   "cell_type": "code",
   "execution_count": 61,
   "metadata": {},
   "outputs": [
    {
     "name": "stdout",
     "output_type": "stream",
     "text": [
      "subjects of 5 most cited articles:\n",
      "16\n",
      "24\n",
      "16\n",
      "16\n",
      "24\n"
     ]
    }
   ],
   "source": [
    "# get list of in degree for each node (= number citations)\n",
    "indegree_list = g.indegree()\n",
    "\n",
    "# get ids of 5 most cited articles\n",
    "most_cited = np.argsort(indegree_list)[-5:]\n",
    "\n",
    "# print their subject areas\n",
    "print('subjects of 5 most cited articles:')\n",
    "for id in most_cited:\n",
    "    print(*g.vs['label'][id])"
   ]
  },
  {
   "cell_type": "code",
   "execution_count": 62,
   "metadata": {},
   "outputs": [
    {
     "name": "stdout",
     "output_type": "stream",
     "text": [
      "subject area that most articles referencing the 5 most cited articles belong to: 16\n"
     ]
    }
   ],
   "source": [
    "# get nodes with an edge to the most cited articles (= articles citing the most cited ones)\n",
    "citing_ids = []\n",
    "for id in most_cited:\n",
    "    citing_ids += g.predecessors(id)\n",
    "\n",
    "# remove any duplicates\n",
    "citing_ids = np.unique(citing_ids)\n",
    "\n",
    "# get the subject area of each article\n",
    "citing_subj = np.array(g.vs['label'])[citing_ids]\n",
    "\n",
    "# count occurence of each subject area\n",
    "subjects, counts = np.unique(citing_subj, return_counts=True)\n",
    "\n",
    "# print subject area with maximum occurrences\n",
    "print('subject area that most articles referencing the 5 most cited articles belong to:', subjects[np.argmax(counts)])"
   ]
  },
  {
   "cell_type": "code",
   "execution_count": null,
   "metadata": {},
   "outputs": [],
   "source": []
  }
 ],
 "metadata": {
  "kernelspec": {
   "display_name": "Python 3",
   "language": "python",
   "name": "python3"
  },
  "language_info": {
   "codemirror_mode": {
    "name": "ipython",
    "version": 3
   },
   "file_extension": ".py",
   "mimetype": "text/x-python",
   "name": "python",
   "nbconvert_exporter": "python",
   "pygments_lexer": "ipython3",
   "version": "3.8.5"
  }
 },
 "nbformat": 4,
 "nbformat_minor": 4
}
