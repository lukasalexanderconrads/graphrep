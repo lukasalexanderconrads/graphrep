{
 "cells": [
  {
   "cell_type": "markdown",
   "metadata": {},
   "source": [
    "# Exercise Sheet 1"
   ]
  },
  {
   "cell_type": "markdown",
   "metadata": {},
   "source": [
    "### 1.1 Load a Graph"
   ]
  },
  {
   "cell_type": "code",
   "execution_count": 79,
   "metadata": {
    "scrolled": true
   },
   "outputs": [],
   "source": [
    "import igraph\n",
    "import numpy as np"
   ]
  },
  {
   "cell_type": "code",
   "execution_count": 80,
   "metadata": {},
   "outputs": [],
   "source": [
    "g = igraph.Graph.Read_Pickle('ogbn-arxiv.pickle')"
   ]
  },
  {
   "cell_type": "markdown",
   "metadata": {},
   "source": [
    "#### 1."
   ]
  },
  {
   "cell_type": "code",
   "execution_count": 81,
   "metadata": {},
   "outputs": [
    {
     "name": "stdout",
     "output_type": "stream",
     "text": [
      "number of vertices: 169343\n",
      "number of edges: 1166243\n"
     ]
    }
   ],
   "source": [
    "print('number of vertices:', g.vcount())\n",
    "print('number of edges:', g.ecount())"
   ]
  },
  {
   "cell_type": "markdown",
   "metadata": {},
   "source": [
    "#### 2."
   ]
  },
  {
   "cell_type": "code",
   "execution_count": 82,
   "metadata": {},
   "outputs": [
    {
     "name": "stdout",
     "output_type": "stream",
     "text": [
      "subjects of 5 most cited articles:\n",
      "16\n",
      "24\n",
      "16\n",
      "16\n",
      "24\n"
     ]
    }
   ],
   "source": [
    "# get list of in degree for each node (= number citations)\n",
    "indegree_list = g.indegree()\n",
    "\n",
    "# get ids of 5 most cited articles\n",
    "most_cited = np.argsort(indegree_list)[-5:]\n",
    "\n",
    "# print their subject areas\n",
    "print('subjects of 5 most cited articles:')\n",
    "for id in most_cited:\n",
    "    print(*g.vs['label'][id])"
   ]
  },
  {
   "cell_type": "markdown",
   "metadata": {},
   "source": [
    "#### 3."
   ]
  },
  {
   "cell_type": "code",
   "execution_count": 83,
   "metadata": {},
   "outputs": [
    {
     "name": "stdout",
     "output_type": "stream",
     "text": [
      "subject area that most articles referencing the 5 most cited articles belong to: 16\n"
     ]
    }
   ],
   "source": [
    "# get nodes with an edge to the most cited articles (= articles citing the most cited ones)\n",
    "citing_ids = []\n",
    "for id in most_cited:\n",
    "    citing_ids += g.predecessors(id)\n",
    "\n",
    "# remove any duplicates\n",
    "citing_ids = np.unique(citing_ids)\n",
    "\n",
    "# get the subject area of each article\n",
    "citing_subj = np.array(g.vs['label'])[citing_ids]\n",
    "\n",
    "# count occurence of each subject area\n",
    "subjects, counts = np.unique(citing_subj, return_counts=True)\n",
    "\n",
    "# print subject area with maximum occurrences\n",
    "print('subject area that most articles referencing the 5 most cited articles belong to:',\n",
    "      subjects[np.argmax(counts)])"
   ]
  },
  {
   "cell_type": "markdown",
   "metadata": {},
   "source": [
    "## 2 Split the Graph into Training and Test Data Set"
   ]
  },
  {
   "cell_type": "code",
   "execution_count": 84,
   "metadata": {},
   "outputs": [],
   "source": [
    "# get vertices by year\n",
    "vert_year = np.array(g.vs['year'])\n",
    "# seperate vertices into two sets V_1, V_2\n",
    "vert_id_1 = np.argwhere(vert_year < 2019)\n",
    "vert_id_2 = np.argwhere(vert_year >= 2019)"
   ]
  },
  {
   "cell_type": "markdown",
   "metadata": {},
   "source": [
    "## 3 Vertex Features"
   ]
  },
  {
   "cell_type": "markdown",
   "metadata": {},
   "source": [
    "### 3.1 Triangle counts\n"
   ]
  },
  {
   "cell_type": "markdown",
   "metadata": {},
   "source": [
    "#### 1.\n",
    "Let $G$ be a graph and $v \\in V(G)$.\n",
    "\n",
    "Claim: $\\Delta(v) = |E(G[\\mathcal{N}(v)])|$\n",
    "\n",
    "Proof:\n",
    "\n",
    "For each pair\n",
    "$$u, w \\in \\mathcal{N}(v): \\{u, v\\}, \\{v, w\\} \\in E(G)$$\n",
    "by definition of a neighborhood.\n",
    "\n",
    "Therefore\n",
    "$${u, v, w}\\; \\text{form a triangle} \\;\\Leftrightarrow \\;{u, w} \\in E(G[\\mathcal{N}(v)]),$$\n",
    "\n",
    "so the number of triangles that include $v$ is equal to the number of edges in the neigborhood of $v$:\n",
    "\n",
    "$$\\Delta(v) = |E(G[\\mathcal{N}(v)])|.$$\n",
    "\n",
    "\n",
    "\n"
   ]
  },
  {
   "cell_type": "markdown",
   "metadata": {},
   "source": [
    "#### 2."
   ]
  },
  {
   "cell_type": "code",
   "execution_count": 85,
   "metadata": {},
   "outputs": [],
   "source": [
    "n_triangles = []\n",
    "# for each vertex\n",
    "for id in range(g.vcount()):\n",
    "    # get its neighborhood (ignoring edge directions)\n",
    "    neighborhood = g.neighbors(id)\n",
    "    # create undirected subgraph induced by neigborhood\n",
    "    subg = g.induced_subgraph(neighborhood)\n",
    "    subg.to_undirected()\n",
    "    # append number of edges in subgraph to triangle counts\n",
    "    n_triangles.append(subg.ecount())\n",
    "\n",
    "# convert to numpy array\n",
    "n_triangles = np.array(n_triangles)    "
   ]
  },
  {
   "cell_type": "markdown",
   "metadata": {},
   "source": [
    "### 3.2 Other Vertex Features"
   ]
  },
  {
   "cell_type": "code",
   "execution_count": 103,
   "metadata": {},
   "outputs": [],
   "source": [
    "# 1. degree\n",
    "degree = g.degree(range(g.vcount()))\n",
    "\n",
    "# 2. page rank score\n",
    "page_rank = g.pagerank()  \n",
    "\n",
    "# 3. coreness\n",
    "coreness = g.coreness()\n",
    "\n",
    "# 4. eigenvector centrality\n",
    "ev_centrality = g.eigenvector_centrality()\n",
    "\n",
    "# 5. indegree\n",
    "indegree = g.indegree(range(g.vcount()))\n",
    "\n",
    "# 6. number of triangles a vertex is part of\n",
    "triangleness = n_triangles"
   ]
  },
  {
   "cell_type": "code",
   "execution_count": 109,
   "metadata": {},
   "outputs": [],
   "source": [
    "# combine all features into a matrix\n",
    "feature_mat = np.stack((degree, page_rank, coreness, ev_centrality, indegree, triangleness), axis=1)"
   ]
  }
 ],
 "metadata": {
  "kernelspec": {
   "display_name": "Python 3",
   "language": "python",
   "name": "python3"
  }
 },
 "nbformat": 4,
 "nbformat_minor": 4
}
