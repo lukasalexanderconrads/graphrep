{
 "cells": [
  {
   "cell_type": "markdown",
   "metadata": {},
   "source": [
    "# Exercise Sheet 3"
   ]
  },
  {
   "cell_type": "markdown",
   "metadata": {},
   "source": [
    "## 1 The Message Passing Framework"
   ]
  },
  {
   "cell_type": "markdown",
   "metadata": {},
   "source": [
    "### 1."
   ]
  },
  {
   "cell_type": "code",
   "execution_count": 1,
   "metadata": {},
   "outputs": [],
   "source": [
    "import numpy as np\n",
    "import igraph as ig\n",
    "import matplotlib.pyplot as plt\n",
    "import timeit\n",
    "\n",
    "def update_f(base, update_value):\n",
    "    return (base + update_value) / 2\n",
    "def aggregation_f(array):\n",
    "    return np.mean(array, axis=0)\n",
    "\n",
    "def msg_passing(g, current_feature_rep, runs): #note that we need to change this if we want to input only a subgraph\n",
    "    curr_r = current_feature_rep\n",
    "    #assume that the initial feature representation spans the whole graph\n",
    "    \n",
    "    neighbors=g.get_adjlist(mode='all')\n",
    "    results = [curr_r]\n",
    "    for i in np.arange(runs):   \n",
    "        next_r = np.empty_like(curr_r)\n",
    "        for idx,n in enumerate(curr_r):\n",
    "            #fetch the attributes out of the current representation array\n",
    "            neigh_attr=np.take(curr_r, neighbors[idx],axis=0)\n",
    "            #aggregate the attributes of the neighbors\n",
    "            aggregate = aggregation_f(neigh_attr)\n",
    "            #update the current representation\n",
    "            update = update_f(current_feature_rep[idx],aggregate)\n",
    "            next_r[idx] = update\n",
    "        curr_r = next_r\n",
    "        results.append(next_r)\n",
    "    return results"
   ]
  },
  {
   "cell_type": "code",
   "execution_count": 2,
   "metadata": {},
   "outputs": [
    {
     "name": "stdout",
     "output_type": "stream",
     "text": [
      "[array([[1., 0.],\n",
      "       [2., 0.],\n",
      "       [1., 1.],\n",
      "       [1., 2.],\n",
      "       [3., 3.]]), array([[1.        , 0.75      ],\n",
      "       [2.        , 1.        ],\n",
      "       [1.16666667, 0.83333333],\n",
      "       [1.33333333, 1.66666667],\n",
      "       [2.25      , 2.        ]]), array([[1.125     , 0.625     ],\n",
      "       [1.85416667, 0.70833333],\n",
      "       [1.22222222, 1.06944444],\n",
      "       [1.23611111, 1.59722222],\n",
      "       [2.33333333, 2.16666667]])]\n"
     ]
    }
   ],
   "source": [
    "#test graph! (from sheet 2)\n",
    "g = ig.Graph(\n",
    "    n=5, edges=[(0,2),(0,3),(1,2),(2,3),(3,4),(1,4)],\n",
    "    vertex_attrs={'num': [(1,1), (2,2), (1,2), (1,4),(3,0)]}\n",
    ")\n",
    "#set the intial representation\n",
    "init_feature_rep = np.array([[1.,0], [2.,0], [1.,1.], [1.,2.],[3.,3.]], dtype=float)\n",
    "\n",
    "#run the message passing framework x = 2 times\n",
    "result = msg_passing(g,init_feature_rep,2) #fix/set data types of arrays???\n",
    "print(result)"
   ]
  },
  {
   "cell_type": "markdown",
   "metadata": {},
   "source": [
    "### 2."
   ]
  },
  {
   "cell_type": "code",
   "execution_count": 37,
   "metadata": {},
   "outputs": [
    {
     "name": "stdout",
     "output_type": "stream",
     "text": [
      "(169343, 128)\n"
     ]
    }
   ],
   "source": [
    "g = ig.Graph.Read_Pickle('ogbn-arxiv.pickle').as_undirected()\n",
    "init_feature_rep = np.array([v['attr'] for v in g.vs()])\n",
    "print(init_feature_rep.shape)"
   ]
  },
  {
   "cell_type": "code",
   "execution_count": 39,
   "metadata": {},
   "outputs": [
    {
     "name": "stdout",
     "output_type": "stream",
     "text": [
      "Run time: 374.1581788000001 s\n"
     ]
    }
   ],
   "source": [
    "runs=100\n",
    "t1 = timeit.default_timer()\n",
    "result = msg_passing(g,init_feature_rep,runs)\n",
    "result_array = np.asarray(result)\n",
    "rtime = timeit.default_timer() - t1\n",
    "print(\"Run time:\", rtime,\"s\")\n",
    "#print(result)"
   ]
  },
  {
   "cell_type": "markdown",
   "metadata": {},
   "source": [
    "### 3"
   ]
  },
  {
   "cell_type": "code",
   "execution_count": null,
   "metadata": {},
   "outputs": [],
   "source": [
    "result_array = np.asarray(result)\n",
    "\n",
    "# get vertices by year\n",
    "vert_year = np.array(g.vs['year']).squeeze()\n",
    "# seperate vertices into two sets V_1, V_2\n",
    "vert_ids_1 = np.argwhere(vert_year < 2019)\n",
    "vert_ids_2 = np.argwhere(vert_year >= 2019)\n",
    "\n",
    "# prepare the data:\n",
    "# document representation as predictor (x), subject as response (y)\n",
    "\n",
    "y_train = np.array(g.vs['label'])[vert_ids_1].squeeze()\n",
    "y_test = np.array(g.vs['label'])[vert_ids_2].squeeze()"
   ]
  },
  {
   "cell_type": "code",
   "execution_count": null,
   "metadata": {},
   "outputs": [],
   "source": [
    "from sklearn.linear_model import LogisticRegression\n",
    "lr = LogisticRegression(random_state=0)\n",
    "\n",
    "k_array = np.array([0,1])#,2,3,4,5,10,20,30,40,50,75,100])\n",
    "score = np.empty_like(k_array)\n",
    "for idx,k in enumerate(k_array):\n",
    "    print(k)\n",
    "    x_train = np.array((result_array[k]))[vert_ids_1].squeeze()\n",
    "    x_test = np.array((result_array[k]))[vert_ids_2].squeeze()\n",
    "    lr.fit(x_train,y_train)\n",
    "    score[idx] = lr.score(x_test,y_test)\n",
    "print(score)"
   ]
  },
  {
   "cell_type": "code",
   "execution_count": null,
   "metadata": {},
   "outputs": [],
   "source": [
    "print(score)\n",
    "plt.figure()\n",
    "plt.scatter(k_array,score)\n",
    "plt.xlabel(\"k\")\n",
    "plt.ylabel(\"accuracy score\")\n",
    "plt.show()\n"
   ]
  },
  {
   "cell_type": "markdown",
   "metadata": {},
   "source": [
    "## 2 Message Passing  & Isomorphisms"
   ]
  },
  {
   "cell_type": "markdown",
   "metadata": {},
   "source": [
    "### 1.\n",
    "**Claim:**\n",
    "\n",
    "For two isomorphic graphs $G, H$ with edge-preserving bijection $\\varphi: V(G) \\rightarrow V(H)$ and initial node representations $r_0^G$ and $r_0^G$, respectively, it holds that\n",
    "\n",
    "$$r_k^G(v) = r_k^H(\\varphi(v)) \\;\\; \\forall k\\geq 0.$$\n",
    "\n",
    "**Proof:**\n",
    "\n",
    "Considering the claim holds for $k=0$, we only have to show that\n",
    "\n",
    "$$r_k^G(v) = r_k^H(\\varphi(v)) \\Rightarrow r_{k+1}^G(v) = r_{k+1}^H(\\varphi(v)) \\;\\; \\forall k\\geq 0.$$\n",
    "\n",
    "From the isomorphism between the graphs follows that $w \\in N(v) \\Leftrightarrow \\varphi(w) \\in N(\\varphi(w))$, which can be used to infer that for all $k\\geq 0$\n",
    "\n",
    "\\begin{align}\n",
    "&r_k^G(v) &&= r_k^H(\\varphi(v))\\\\\n",
    "\\Rightarrow \\;\\; & \\operatorname{upd}\\big(r_k^G(v), \\operatorname{agg}(\\{\\{r_k^G(w)|w \\in N(v)\\}\\})\\big) &&= \\operatorname{upd}\\big(r_k^H(\\varphi(v)), \\operatorname{agg}(\\{\\{r_k^H(\\varphi(w))|\\varphi(w) \\in N(\\varphi(v))\\}\\})\\big) \\\\\n",
    "\\Leftrightarrow \\;\\; & r_{k+1}^G(v) &&= r_{k+1}^H(\\varphi(v)).\n",
    "\\end{align}\n",
    "Therefore, the claim is true for all $k\\geq 0$."
   ]
  },
  {
   "cell_type": "markdown",
   "metadata": {},
   "source": [
    "### 2.\n",
    "**Claim:**\n",
    "\n",
    "Given two graphs $G, H$ with bijection $\\varphi: V(G) \\rightarrow V(H)$, if $r_k^G(v) = r_k^H(\\varphi(v))$ for all $k\\geq 0$ then $\\varphi$ is an isomorphism.\n",
    "\n",
    "**Disproof:**\n",
    "\n",
    "One can construct a simple instance of the message passing framework where\n",
    "\n",
    "$$\\operatorname{upd}(\\cdot, \\cdot) = 0 $$\n",
    "\n",
    "Consider two graphs $G$ with $V(G) = \\{v_0, v_1\\}$, $E(G) = \\{\\{v_0, v_1\\}\\}$ and $H$ with $V(H) = \\{v_0', v_1'\\}$, $E(G) = \\{\\}$. There is a bijection $\\varphi$ and $r_k^G(v) = r_k^H(\\varphi(v)) = 0$ for all $k \\in \\mathbb{N}_0$ and $v \\in V(G)$, but the graphs are not isomorphic."
   ]
  },
  {
   "cell_type": "markdown",
   "metadata": {},
   "source": [
    "## 3 The Weisfeiler-Lehman Method"
   ]
  },
  {
   "cell_type": "markdown",
   "metadata": {},
   "source": [
    "### 1. (see sketch of proof by Till)\n",
    "**Claim:**\n",
    "\n",
    "Let $G, H$ be two graphs with $n = |V(G)| = |V(H)|$. If the multisets of vertex representations are equal in iteration $n$, then they remain equal in all further iterations, i.e.,\n",
    "$$r_n^{WL, G} = r_n^{WL, H} \\Rightarrow r_{n+1}^{WL, G} = r_{n+1}^{WL, H}$$\n",
    "\n",
    "**Proof**:\n",
    "\n",
    "To simplify notation: $r_n \\equiv r_n^{WL}$\n",
    "\n",
    "Equal multisets of representations imply that $\\forall v \\in V(G): !\\exists v' \\in V(H): r_n(v) = r_n(v')$.\n",
    "\n",
    "\\begin{align}\n",
    "r_{n+1}(v) &=  \\#_n \\big( r_n(v), \\{\\{ r_n(w) | w \\in N(v) \\}\\} \\big) \\\\\n",
    "&\\overset{(1)}{=} \\#_n \\big( r_n(v'), \\{\\{ r_n(w) | w \\in N(v') \\}\\} \\big) \\\\\n",
    "&= r_{n+1}(v')\n",
    "\\end{align}\n",
    "\n",
    "For the equality $(1)$ to hold, we must show that $r_n(v) = r_n(v') \\Rightarrow \\{\\{ r_n(w) | w \\in N(v) \\}\\} = \\{\\{ r_n(w) | w \\in N(v') \\}\\}$\n"
   ]
  },
  {
   "cell_type": "markdown",
   "metadata": {},
   "source": [
    "### 2.\n",
    "**Claim:**\n",
    "\n",
    "$$r_k(v) \\neq r_k(u) \\Rightarrow r_{k+1}(v) \\neq r_{k+1}(u)$$\n",
    "\n",
    "**Proof:**\n",
    "\n",
    "Assume that\n",
    "\\begin{align}\n",
    "& r_{k+1}(v) &&= r_{k+1}(u) \\\\\n",
    " \\Leftrightarrow \\;\\;&\\#_k \\big(r_k(v), \\{\\{ r_k(w) | w \\in N(v) \\}\\} \\big) && = \\#_k \\big(r_k(u), \\{\\{ r_k(w) | w \\in N(u) \\}\\} \\big) \\\\\n",
    "\\Rightarrow \\;\\;&r_k(v) &&= r_k(u)\n",
    "\\end{align}\n",
    "\n",
    "This contradicts the LHS of the claim, so the RHS must be true."
   ]
  },
  {
   "cell_type": "markdown",
   "metadata": {},
   "source": [
    "### 3.\n",
    "**Claim:**\n",
    "\n",
    "$$r_k(v) = r_k(u) \\Rightarrow r_{k-1}(v) = r_{k-1}(u)$$\n",
    "\n",
    "**Proof:**\n",
    "\n",
    "\\begin{align}\n",
    "&r_k(v) &&= r_k(u) \\\\\n",
    "\\Leftrightarrow \\;\\; &\\#_k \\big(r_{k-1}(v), \\{\\{ r_{k-1}(w) | w \\in N(v) \\}\\} \\big) &&= \\#_k \\big(r_{k-1}(u), \\{\\{ r_{k-1}(w) | w \\in N(u) \\}\\} \\big) \\\\\n",
    "\\Rightarrow \\;\\; & r_{k-1}(u) &&= r_{k-1}(v)\n",
    "\\end{align}"
   ]
  },
  {
   "cell_type": "code",
   "execution_count": null,
   "metadata": {},
   "outputs": [],
   "source": []
  }
 ],
 "metadata": {
  "kernelspec": {
   "display_name": "Python 3",
   "language": "python",
   "name": "python3"
  },
  "language_info": {
   "codemirror_mode": {
    "name": "ipython",
    "version": 3
   },
   "file_extension": ".py",
   "mimetype": "text/x-python",
   "name": "python",
   "nbconvert_exporter": "python",
   "pygments_lexer": "ipython3",
   "version": "3.8.5"
  }
 },
 "nbformat": 4,
 "nbformat_minor": 4
}
