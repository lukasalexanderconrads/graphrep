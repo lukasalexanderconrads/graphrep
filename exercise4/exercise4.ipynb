{
 "cells": [
  {
   "cell_type": "markdown",
   "metadata": {},
   "source": [
    "# Exercise Sheet 4"
   ]
  },
  {
   "cell_type": "markdown",
   "metadata": {},
   "source": [
    "## 1 The Message Passing Framework"
   ]
  },
  {
   "cell_type": "markdown",
   "metadata": {},
   "source": [
    "### 1. Random Graph Neural Networks\n",
    "Consider the ogbn-arxiv graph. Implement a Basic GNN (slide 8) using your message passing framework code from the previous exercise sheet. Ignore the training by backpropagation, for now, by proceeding as follows:\n",
    "\n",
    "Initialize $r_0(v)$ = v[′attr′] by using the 128-dimensional attribute vectors.\n",
    "\n",
    "For k ∈ {0,1,2,3} create random matrices $W^{self}_k ,W^{neigh}_k ∈ [−1,1]^{d_k×d_{k+1}}$ and\n",
    "random bias vectors $b_k ∈[−1,1]^{d_{k+1}}$. Choose the dimensionalities $d_k$, resp. $d_{k+1}$,\n",
    "appropriately.\n",
    "\n",
    "Use a nonlinearity function σ of your choice.\n",
    "\n",
    "For each k ∈{0,1,2,3}, perform a node classification based on vertex representations\n",
    "$r_k$ using a simple logistic regression classifier w.r.t. the target attribute label. Plot the\n",
    "accuracy scores over k."
   ]
  },
  {
   "cell_type": "code",
   "execution_count": 1,
   "metadata": {},
   "outputs": [],
   "source": [
    "import numpy as np\n",
    "import igraph as ig\n",
    "import matplotlib.pyplot as plt\n",
    "import timeit\n",
    "import math as m\n",
    "\n",
    "def update_f(wself,wneigh,bias,old_feature_v,update_value):\n",
    "    s1 = wself.dot(old_feature_v)\n",
    "    s2 = wneigh.dot(update_value)  \n",
    "    s3 = s1+s2+bias\n",
    "    return tanh_vec(s3)\n",
    "def aggregation_f(array):\n",
    "    return np.sum(array,axis=0)\n",
    "\n",
    "def msg_passing(wself,wneigh,bias,g,current_feature_rep,runs): #note that we need to change this if we want to input only a subgraph\n",
    "    curr_r = np.copy(current_feature_rep)\n",
    "    #assume that the initial feature representation spans the whole graph\n",
    "    #get neighbors ONCE\n",
    "        #neighborhood(vertices=None, order=1, mode='all', mindist=0): \n",
    "        #mindist = 1: exclude seed node\n",
    "    neighbors=g.neighborhood(vertices=None,order=1,mode='all',mindist=1)\n",
    "    #print(neighbors)\n",
    "    results = [curr_r]\n",
    "    for i in np.arange(runs): \n",
    "        print(\"run\",i)\n",
    "        next_r = np.empty_like(curr_r)\n",
    "        for idx,n in enumerate(curr_r):\n",
    "            #fetch the attributes out of the current representation array\n",
    "            neigh_attr = np.take(curr_r, neighbors[idx],axis=0)\n",
    "            #aggregate the attributes of the neighbors\n",
    "            aggregate = aggregation_f(neigh_attr)\n",
    "            #update the current representation\n",
    "            update = update_f(wself[i,:,:],wneigh[i,:,:],bias[i,:],current_feature_rep[idx].T,aggregate)\n",
    "            next_r[idx] = update\n",
    "        curr_r = next_r\n",
    "        results.append(next_r)\n",
    "    return results"
   ]
  },
  {
   "cell_type": "code",
   "execution_count": 2,
   "metadata": {},
   "outputs": [
    {
     "name": "stdout",
     "output_type": "stream",
     "text": [
      "(169343, 128)\n"
     ]
    }
   ],
   "source": [
    "#read graph and initialize r0 as v['attr']\n",
    "g = ig.Graph.Read_Pickle('ogbn-arxiv.pickle').as_undirected()\n",
    "init_feature_rep = np.array([v['attr'] for v in g.vs()])\n",
    "print(init_feature_rep.shape)"
   ]
  },
  {
   "cell_type": "code",
   "execution_count": 3,
   "metadata": {},
   "outputs": [],
   "source": [
    "#create matrices (per k)and bias \n",
    "k = np.array([0,1,2,3])\n",
    "dk = 128 #???\n",
    "\n",
    "np.random.seed(seed=3)\n",
    "wself = np.array((2*np.random.random_sample((len(k),dk,dk))-1)) #interval [-1,1) - better way to do it??\n",
    "wneigh = np.array((2*np.random.random_sample((len(k),dk,dk))-1)) #interval [-1,1)\n",
    "bias = np.array((2*np.random.random_sample((len(k),dk))-1)) #interval [-1,1)\n",
    "\n",
    "#use \"tanh\" as sigma\n",
    "def tanhf(z):\n",
    "    return m.tanh(z)\n",
    "\n",
    "tanh_vec = np.vectorize(tanhf)"
   ]
  },
  {
   "cell_type": "code",
   "execution_count": 108,
   "metadata": {},
   "outputs": [
    {
     "name": "stdout",
     "output_type": "stream",
     "text": [
      "run 0\n",
      "run 1\n",
      "run 2\n",
      "run 3\n",
      "Run time: 81.66237400000045 s\n"
     ]
    }
   ],
   "source": [
    "runs=len(k)\n",
    "t1 = timeit.default_timer()\n",
    "result = msg_passing(wself,wneigh,bias,g,init_feature_rep,runs)\n",
    "result_array = np.asarray(result)\n",
    "rtime = timeit.default_timer() - t1\n",
    "print(\"Run time:\", rtime,\"s\")\n",
    "#print(result)"
   ]
  },
  {
   "cell_type": "code",
   "execution_count": 130,
   "metadata": {},
   "outputs": [
    {
     "name": "stderr",
     "output_type": "stream",
     "text": [
      "C:\\Users\\mwibc\\anaconda3\\lib\\site-packages\\sklearn\\linear_model\\_logistic.py:762: ConvergenceWarning: lbfgs failed to converge (status=1):\n",
      "STOP: TOTAL NO. of ITERATIONS REACHED LIMIT.\n",
      "\n",
      "Increase the number of iterations (max_iter) or scale the data as shown in:\n",
      "    https://scikit-learn.org/stable/modules/preprocessing.html\n",
      "Please also refer to the documentation for alternative solver options:\n",
      "    https://scikit-learn.org/stable/modules/linear_model.html#logistic-regression\n",
      "  n_iter_i = _check_optimize_result(\n",
      "C:\\Users\\mwibc\\anaconda3\\lib\\site-packages\\sklearn\\linear_model\\_logistic.py:762: ConvergenceWarning: lbfgs failed to converge (status=1):\n",
      "STOP: TOTAL NO. of ITERATIONS REACHED LIMIT.\n",
      "\n",
      "Increase the number of iterations (max_iter) or scale the data as shown in:\n",
      "    https://scikit-learn.org/stable/modules/preprocessing.html\n",
      "Please also refer to the documentation for alternative solver options:\n",
      "    https://scikit-learn.org/stable/modules/linear_model.html#logistic-regression\n",
      "  n_iter_i = _check_optimize_result(\n",
      "C:\\Users\\mwibc\\anaconda3\\lib\\site-packages\\sklearn\\linear_model\\_logistic.py:762: ConvergenceWarning: lbfgs failed to converge (status=1):\n",
      "STOP: TOTAL NO. of ITERATIONS REACHED LIMIT.\n",
      "\n",
      "Increase the number of iterations (max_iter) or scale the data as shown in:\n",
      "    https://scikit-learn.org/stable/modules/preprocessing.html\n",
      "Please also refer to the documentation for alternative solver options:\n",
      "    https://scikit-learn.org/stable/modules/linear_model.html#logistic-regression\n",
      "  n_iter_i = _check_optimize_result(\n"
     ]
    },
    {
     "name": "stdout",
     "output_type": "stream",
     "text": [
      "Train time: 103.71406109999953 s\n"
     ]
    },
    {
     "name": "stderr",
     "output_type": "stream",
     "text": [
      "C:\\Users\\mwibc\\anaconda3\\lib\\site-packages\\sklearn\\linear_model\\_logistic.py:762: ConvergenceWarning: lbfgs failed to converge (status=1):\n",
      "STOP: TOTAL NO. of ITERATIONS REACHED LIMIT.\n",
      "\n",
      "Increase the number of iterations (max_iter) or scale the data as shown in:\n",
      "    https://scikit-learn.org/stable/modules/preprocessing.html\n",
      "Please also refer to the documentation for alternative solver options:\n",
      "    https://scikit-learn.org/stable/modules/linear_model.html#logistic-regression\n",
      "  n_iter_i = _check_optimize_result(\n"
     ]
    }
   ],
   "source": [
    "from sklearn.linear_model import LogisticRegression\n",
    "from sklearn.model_selection import train_test_split\n",
    "from sklearn.metrics import accuracy_score\n",
    "\n",
    "lr = LogisticRegression(random_state=3,max_iter=100,solver=\"lbfgs\")\n",
    "t1 = timeit.default_timer()\n",
    "score = np.empty_like(k,dtype=float)\n",
    "y = np.array(g.vs['label'])\n",
    "\n",
    "for idx,k_value in enumerate(k):\n",
    "    x_train, x_test, y_train, y_test = train_test_split(result_array[k_value], y, test_size=0.33, random_state=42)\n",
    "    lr.fit(x_train,y_train.ravel())\n",
    "    score[idx] = lr.score(x_test,y_test)\n",
    "train_time = timeit.default_timer() - t1\n",
    "#print(score)\n",
    "print(\"Train time:\", train_time,\"s\")"
   ]
  },
  {
   "cell_type": "code",
   "execution_count": 131,
   "metadata": {},
   "outputs": [
    {
     "name": "stdout",
     "output_type": "stream",
     "text": [
      "k: [0 1 2 3]\n",
      "Accuracy: [0.54588075 0.57154105 0.58199127 0.56091189]\n"
     ]
    },
    {
     "data": {
      "image/png": "[encoded data removed]",
      "text/plain": [
       "<Figure size 432x288 with 1 Axes>"
      ]
     },
     "metadata": {
      "needs_background": "light"
     },
     "output_type": "display_data"
    }
   ],
   "source": [
    "print(\"k:\",k)\n",
    "print(\"Accuracy:\", score)\n",
    "plt.figure()\n",
    "plt.scatter(k,score)\n",
    "plt.xlabel(\"k\")\n",
    "plt.ylabel(\"accuracy score\")\n",
    "plt.show()\n"
   ]
  },
  {
   "cell_type": "markdown",
   "metadata": {},
   "source": [
    "## 2 Degree Normalization"
   ]
  },
  {
   "cell_type": "markdown",
   "metadata": {},
   "source": [
    "Once again consider the ogbn-arxiv graph. Implement two Basic GNNs A,B (slide 8) using your message passing framework code from the previous exercise sheet. Ignore the training by backpropagation, for now, by proceeding as follows:\n",
    "\n",
    "•Initialize r0(v) = 1 ∈R100, i.e., to the 100-dimensional vector of ones.\n",
    "\n",
    "•For k ∈ {0,1,2,3} create random matrices $W^{self}_k ,W^{neigh}_k ∈ [−1,1]^{100×100}$ and\n",
    "random bias vectors $b_k ∈[−1,1]^100$.\n",
    "\n",
    "•Use a nonlinearity function σ of your choice.\n",
    "\n",
    "•For GNN A use the sum aggregator (i.e., don’t change the formula on slide 8).\n",
    "\n",
    "•For GNN B, use the mean aggregator, i.e., set $r_{k+1}(v) = σ(W^{self}_k*r_k(v) + W^{neigh}_k*\\frac{1}{|N(v)|}*\\sum_{w\\in N(v)}r_k(w)+b_k)$\n",
    "\n",
    "For each k ∈{0,1,2,3}, perform a node regression task based on vertex representations\n",
    "rk using a simple linear regression. This time choose the node degrees as target labels.\n",
    "Plot the accuracy scores over k. What do you observe?"
   ]
  },
  {
   "cell_type": "code",
   "execution_count": null,
   "metadata": {},
   "outputs": [],
   "source": []
  },
  {
   "cell_type": "markdown",
   "metadata": {},
   "source": [
    "## 3 PyTorch Geometric"
   ]
  },
  {
   "cell_type": "markdown",
   "metadata": {},
   "source": [
    "PyTorch Geometric or PYG is a framework for graph neural networks on top of PyTorch.\n",
    "It already implements GINs, GCNs and quite a lot of other GNN variants.\n",
    "Implement the neural network architecture presented on slide 24 for both GINs and GCNs using PYG for the node classification task on the cora graph. You may follow the tutorial of PYG that conveniently shows how to implement a GCN layer for this graph.\n",
    "Implement three GIN, resp. GCN, layers and add a fully connected layer to transform your representations r3 to the expected input of the softmax function.\n",
    "Split your test data into 30% validation and 70% test. Evaluate the accuracy of your model after each epoch on the validation data and plot the accuracy over epochs."
   ]
  },
  {
   "cell_type": "code",
   "execution_count": null,
   "metadata": {
    "collapsed": true
   },
   "outputs": [],
   "source": []
  }
 ],
 "metadata": {
  "kernelspec": {
   "display_name": "Python 3",
   "language": "python",
   "name": "python3"
  },
  "language_info": {
   "codemirror_mode": {
    "name": "ipython",
    "version": 3
   },
   "file_extension": ".py",
   "mimetype": "text/x-python",
   "name": "python",
   "nbconvert_exporter": "python",
   "pygments_lexer": "ipython3",
   "version": "3.8.5"
  }
 },
 "nbformat": 4,
 "nbformat_minor": 4
}
