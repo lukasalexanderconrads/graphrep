{
 "cells": [
  {
   "cell_type": "markdown",
   "metadata": {},
   "source": [
    "# Exercise Sheet 4"
   ]
  },
  {
   "cell_type": "markdown",
   "metadata": {},
   "source": [
    "## 1 The Message Passing Framework"
   ]
  },
  {
   "cell_type": "markdown",
   "metadata": {},
   "source": [
    "### 1. Random Graph Neural Networks\n",
    "Consider the ogbn-arxiv graph. Implement a Basic GNN (slide 8) using your message passing framework code from the previous exercise sheet. Ignore the training by backpropagation, for now, by proceeding as follows:\n",
    "\n",
    "Initialize $r_0(v)$ = v[′attr′] by using the 128-dimensional attribute vectors.\n",
    "\n",
    "For k ∈ {0,1,2,3} create random matrices $W^{self}_k ,W^{neigh}_k ∈ [−1,1]^{d_k×d_{k+1}}$ and\n",
    "random bias vectors $b_k ∈[−1,1]^{d_{k+1}}$. Choose the dimensionalities $d_k$, resp. $d_{k+1}$,\n",
    "appropriately.\n",
    "\n",
    "Use a nonlinearity function σ of your choice.\n",
    "\n",
    "For each k ∈{0,1,2,3}, perform a node classification based on vertex representations\n",
    "$r_k$ using a simple logistic regression classifier w.r.t. the target attribute label. Plot the\n",
    "accuracy scores over k."
   ]
  },
  {
   "cell_type": "code",
   "execution_count": 31,
   "metadata": {},
   "outputs": [],
   "source": [
    "import numpy as np\n",
    "import igraph as ig\n",
    "import matplotlib.pyplot as plt\n",
    "import timeit\n",
    "import math as m\n",
    "\n",
    "def update_fn(wself, wneigh, bias, self_rep, neigh_rep):\n",
    "    return np.tanh(np.einsum('ij,bj->bi', wself.T, self_rep)\n",
    "                   + np.einsum('ij,bj->bi', wneigh.T, neigh_rep)\n",
    "                   + bias)\n",
    "    \n",
    "def aggregation_fn(array):\n",
    "    return np.sum(array, axis=0)\n",
    "\n",
    "def msg_passing(wself, wneigh, bias, g, feat_reps, n_runs, agg, upd): #note that we need to change this if we want to input only a subgraph\n",
    "    current_reps = np.copy(feat_reps)\n",
    "    neighbors = g.get_adjlist(mode='all')\n",
    "    \n",
    "    results = []\n",
    "    for run in range(n_runs):\n",
    "        print(\"run\", run)\n",
    "        aggregates = []\n",
    "        for idx in range(current_reps.shape[0]):\n",
    "            # fetch the attributes out of the current representation array\n",
    "            neigh_attr = np.take(current_reps, neighbors[idx], axis=0)\n",
    "            # aggregate the attributes of the neighbors\n",
    "            aggregates.append(agg(neigh_attr))\n",
    "            \n",
    "        aggregates = np.stack(aggregates, axis=0)\n",
    "        # update the current representation\n",
    "        update = upd(wself[run], wneigh[run], bias[run], current_reps, aggregates)\n",
    "        \n",
    "        results.append(update)\n",
    "        current_reps = np.copy(update)\n",
    "\n",
    "    return results"
   ]
  },
  {
   "cell_type": "code",
   "execution_count": 32,
   "metadata": {},
   "outputs": [
    {
     "name": "stdout",
     "output_type": "stream",
     "text": [
      "(169343, 128)\n"
     ]
    }
   ],
   "source": [
    "# read graph and initialize r0 as v['attr']\n",
    "g = ig.Graph.Read_Pickle('ogbn-arxiv.pickle').as_undirected()\n",
    "init_feature_rep = np.array([v['attr'] for v in g.vs()])"
   ]
  },
  {
   "cell_type": "code",
   "execution_count": 38,
   "metadata": {},
   "outputs": [],
   "source": [
    "# create matrices (per k)and bias \n",
    "\n",
    "k_list = np.array([0, 1, 2, 3])\n",
    "dk = [128, 128, 128, 128, 128] # dimension of feature can change in each iteration\n",
    "\n",
    "np.random.seed(seed=3)\n",
    "\n",
    "wself = [2 * np.random.random_sample((dk[k], dk[k+1])) - 1 for k in k_list]\n",
    "wneigh = [2 * np.random.random_sample((dk[k], dk[k+1])) - 1 for k in k_list]\n",
    "bias = [2 * np.random.random_sample((dk[k+1])) - 1 for k in k_list]"
   ]
  },
  {
   "cell_type": "code",
   "execution_count": 39,
   "metadata": {},
   "outputs": [
    {
     "name": "stdout",
     "output_type": "stream",
     "text": [
      "run 0\n",
      "run 1\n",
      "run 2\n",
      "run 3\n",
      "Run time: 42.04491879000125 s\n"
     ]
    }
   ],
   "source": [
    "runs = len(k_list)\n",
    "t1 = timeit.default_timer()\n",
    "result = msg_passing(wself, wneigh, bias, g, init_feature_rep, runs, aggregation_fn, update_fn)\n",
    "rtime = timeit.default_timer() - t1\n",
    "print(\"Run time:\", rtime,\"s\")"
   ]
  },
  {
   "cell_type": "code",
   "execution_count": null,
   "metadata": {},
   "outputs": [],
   "source": [
    "from sklearn.linear_model import LogisticRegression\n",
    "from sklearn.model_selection import train_test_split\n",
    "from sklearn.metrics import accuracy_score\n",
    "\n",
    "lr = LogisticRegression(random_state=3, max_iter=100, solver='saga')\n",
    "t1 = timeit.default_timer()\n",
    "score = []\n",
    "y = np.array(g.vs['label'])\n",
    "\n",
    "for k in k_list:\n",
    "    x_train, x_test, y_train, y_test = train_test_split(result[k], y, test_size=0.33, random_state=42)\n",
    "    lr.fit(x_train, y_train.ravel())\n",
    "    score.append(lr.score(x_test, y_test))\n",
    "    \n",
    "train_time = timeit.default_timer() - t1\n",
    "print(\"Train time:\", train_time,\"s\")"
   ]
  },
  {
   "cell_type": "code",
   "execution_count": 42,
   "metadata": {},
   "outputs": [
    {
     "name": "stdout",
     "output_type": "stream",
     "text": [
      "k: [0 1 2 3]\n",
      "Accuracy: [0.5530742251807315, 0.5599992842316226, 0.5507658721637678, 0.5515174289599886]\n"
     ]
    },
    {
     "data": {
      "image/png": "[encoded data removed]",
      "text/plain": [
       "<Figure size 432x288 with 1 Axes>"
      ]
     },
     "metadata": {
      "needs_background": "light"
     },
     "output_type": "display_data"
    }
   ],
   "source": [
    "print(\"k:\", k_list)\n",
    "print(\"Accuracy:\", score)\n",
    "plt.figure()\n",
    "plt.plot(k_list, score)\n",
    "plt.xlabel(\"k\")\n",
    "plt.ylabel(\"accuracy score\")\n",
    "plt.show()\n"
   ]
  },
  {
   "cell_type": "markdown",
   "metadata": {},
   "source": [
    "## 2 Degree Normalization"
   ]
  },
  {
   "cell_type": "markdown",
   "metadata": {},
   "source": [
    "Once again consider the ogbn-arxiv graph. Implement two Basic GNNs A,B (slide 8) using your message passing framework code from the previous exercise sheet. Ignore the training by backpropagation, for now, by proceeding as follows:\n",
    "\n",
    "•Initialize r0(v) = 1 ∈R100, i.e., to the 100-dimensional vector of ones.\n",
    "\n",
    "•For k ∈ {0,1,2,3} create random matrices $W^{self}_k ,W^{neigh}_k ∈ [−1,1]^{100×100}$ and\n",
    "random bias vectors $b_k ∈[−1,1]^{100}$.\n",
    "\n",
    "•Use a nonlinearity function σ of your choice.\n",
    "\n",
    "•For GNN A use the sum aggregator (i.e., don’t change the formula on slide 8).\n",
    "\n",
    "•For GNN B, use the mean aggregator, i.e., set $r_{k+1}(v) = σ(W^{self}_k*r_k(v) + W^{neigh}_k*\\frac{1}{|N(v)|}*\\sum_{w\\in N(v)}r_k(w)+b_k)$\n",
    "\n",
    "For each k ∈{0,1,2,3}, perform a node regression task based on vertex representations\n",
    "$r_k$ using a simple linear regression. This time choose the node degrees as target labels.\n",
    "Plot the accuracy scores over k. What do you observe?"
   ]
  },
  {
   "cell_type": "code",
   "execution_count": null,
   "metadata": {},
   "outputs": [],
   "source": [
    "num_vertices = g.vcount()\n",
    "init_feature_rep = np.ones([num_vertices,100])\n",
    "#create matrices (per k)and bias \n",
    "k = np.array([0,1,2,3])\n",
    "dk = 100\n",
    "\n",
    "np.random.seed(seed=3)\n",
    "wself = np.array((2*np.random.random_sample((len(k),dk,dk))-1)) #interval [-1,1) - better way to do it??\n",
    "wneigh = np.array((2*np.random.random_sample((len(k),dk,dk))-1)) #interval [-1,1)\n",
    "bias = np.array((2*np.random.random_sample((len(k),dk))-1)) #interval [-1,1)\n",
    "\n",
    "#define different aggregation functions\n",
    "def agg1(array):\n",
    "    return np.sum(array,axis=0)\n",
    "def agg2(array):\n",
    "    return np.mean(array,axis=0)"
   ]
  },
  {
   "cell_type": "code",
   "execution_count": null,
   "metadata": {},
   "outputs": [],
   "source": [
    "runs=len(k)\n",
    "t1 = timeit.default_timer()\n",
    "print(\"Run 'sum' version\")\n",
    "result_aggSum = np.asarray(msg_passing_flexagg(wself,wneigh,bias,g,init_feature_rep,runs,agg1))\n",
    "print(\"Run 'mean' version\")\n",
    "result_aggMean = np.asarray(msg_passing_flexagg(wself,wneigh,bias,g,init_feature_rep,runs,agg2))\n",
    "rtime = timeit.default_timer() - t1\n",
    "print(\"Run time:\", rtime,\"s\")"
   ]
  },
  {
   "cell_type": "code",
   "execution_count": null,
   "metadata": {},
   "outputs": [],
   "source": [
    "from sklearn.linear_model import LinearRegression\n",
    "from sklearn.model_selection import train_test_split\n",
    "from sklearn.model_selection  import cross_val_score\n",
    "from sklearn.metrics import accuracy_score\n",
    "\n",
    "lr = LinearRegression()\n",
    "t1 = timeit.default_timer()\n",
    "score = np.empty([2,len(k)],dtype=float)\n",
    "y = np.array(g.degree(g.vs(),mode='all')) #get the degree of all nodes as test values\n",
    "\n",
    "#sum aggregation\n",
    "for idx,k_value in enumerate(k):\n",
    "    #x_train, x_test, y_train, y_test = train_test_split(, y, test_size=0.2, random_state=42)\n",
    "    #lr.fit(x_train,y_train.ravel())\n",
    "    #score[0,idx] = lr.score(x_test,y_test)\n",
    "    scores = cross_val_score(LinearRegression(), result_aggSum[k_value], y, cv=5, scoring='r2')\n",
    "    score[0,idx] = scores.mean()\n",
    "#mean aggregation\n",
    "for idx,k_value in enumerate(k):\n",
    "    #x_train, x_test, y_train, y_test = train_test_split(result_aggMean[k_value], y, test_size=0.2, random_state=42)\n",
    "    #lr.fit(x_train,y_train.ravel())\n",
    "    #score[1,idx] = lr.score(x_test,y_test)\n",
    "    scores = cross_val_score(LinearRegression(), result_aggMean[k_value], y, cv=5, scoring='r2')\n",
    "    score[1,idx] = scores.mean()\n",
    "    \n",
    "train_time = timeit.default_timer() - t1\n",
    "print(score)\n",
    "print(\"Train time:\", train_time,\"s\")"
   ]
  },
  {
   "cell_type": "code",
   "execution_count": null,
   "metadata": {},
   "outputs": [],
   "source": [
    "print(\"k:\",k)\n",
    "print(\"Accuracy:\", score)\n",
    "plt.figure()\n",
    "plt.scatter(k,score[0,:],color='red',label='sum aggregator',marker=\"+\")\n",
    "plt.scatter(k,score[1,:],color='blue',label='mean aggregator',marker=\"4\")\n",
    "plt.legend(loc=\"lower left\")\n",
    "plt.xlabel(\"k\")\n",
    "plt.ylabel(\"accuracy score\")\n",
    "plt.title(\"both combined\")\n",
    "plt.show()\n",
    "\n",
    "plt.figure()\n",
    "plt.scatter(k,score[0,:],color='red',label='sum aggregator',marker=\"+\")\n",
    "#plt.scatter(k,score[1,:],color='blue',label='mean aggregator',marker=\"4\")\n",
    "plt.legend(loc=\"center left\")\n",
    "plt.xlabel(\"k\")\n",
    "plt.ylabel(\"accuracy score\")\n",
    "plt.title(\"only sum aggregator\")\n",
    "plt.show()\n",
    "\n",
    "plt.figure()\n",
    "#plt.scatter(k,score[0,:],color='red',label='sum aggregator',marker=\"+\")\n",
    "plt.scatter(k,score[1,:],color='blue',label='mean aggregator',marker=\"4\")\n",
    "plt.legend(loc=\"center left\")\n",
    "plt.xlabel(\"k\")\n",
    "plt.ylabel(\"accuracy score\")\n",
    "plt.title(\"only mean aggregator\")\n",
    "plt.show()"
   ]
  },
  {
   "cell_type": "markdown",
   "metadata": {},
   "source": [
    "## 3 PyTorch Geometric"
   ]
  },
  {
   "cell_type": "code",
   "execution_count": null,
   "metadata": {},
   "outputs": [],
   "source": []
  },
  {
   "cell_type": "markdown",
   "metadata": {},
   "source": [
    "PyTorch Geometric or PYG is a framework for graph neural networks on top of PyTorch.\n",
    "It already implements GINs, GCNs and quite a lot of other GNN variants.\n",
    "Implement the neural network architecture presented on slide 24 for both GINs and GCNs using PYG for the node classification task on the cora graph. You may follow the tutorial of PYG that conveniently shows how to implement a GCN layer for this graph.\n",
    "Implement three GIN, resp. GCN, layers and add a fully connected layer to transform your representations r3 to the expected input of the softmax function.\n",
    "Split your test data into 30% validation and 70% test. Evaluate the accuracy of your model after each epoch on the validation data and plot the accuracy over epochs."
   ]
  },
  {
   "cell_type": "code",
   "execution_count": null,
   "metadata": {},
   "outputs": [],
   "source": []
  }
 ],
 "metadata": {
  "kernelspec": {
   "display_name": "graphrep",
   "language": "python",
   "name": "graphrep"
  },
  "language_info": {
   "codemirror_mode": {
    "name": "ipython",
    "version": 3
   },
   "file_extension": ".py",
   "mimetype": "text/x-python",
   "name": "python",
   "nbconvert_exporter": "python",
   "pygments_lexer": "ipython3",
   "version": "3.9.7"
  }
 },
 "nbformat": 4,
 "nbformat_minor": 4
}
