{
 "cells": [
  {
   "cell_type": "markdown",
   "metadata": {},
   "source": [
    "## 3 Degeneracy"
   ]
  },
  {
   "cell_type": "code",
   "execution_count": 72,
   "metadata": {},
   "outputs": [],
   "source": [
    "import igraph\n",
    "import numpy as np"
   ]
  },
  {
   "cell_type": "code",
   "execution_count": 81,
   "metadata": {},
   "outputs": [],
   "source": [
    "# load the graph as undirected\n",
    "g = igraph.Graph.Read_Pickle('ogbn-arxiv.pickle').as_undirected()"
   ]
  },
  {
   "cell_type": "code",
   "execution_count": 82,
   "metadata": {},
   "outputs": [],
   "source": [
    "def degeneracy(g):\n",
    "    # get adjacency list\n",
    "    adj = g.get_adjlist()\n",
    "    # create result array\n",
    "    deg = np.zeros((g.vcount()))\n",
    "    # create A\n",
    "    arrA = [[] for _ in range(g.vcount())]\n",
    "    # create B and init with degreee of each vertex\n",
    "    arrB = g.degree(range(g.vcount()))\n",
    "    # fill A with lists of vertices that have each degree\n",
    "    for i, degree in enumerate(arrB):\n",
    "        arrA[degree].append(i)\n",
    "    \n",
    "    # loop over all degrees \n",
    "    k = d_min = 0        \n",
    "    while d_min < g.vcount():\n",
    "        # if there are no vertices with degree d_min, consider d_min + 1\n",
    "        if arrA[d_min] == []:\n",
    "            d_min += 1\n",
    "        # otherwise, consider a vertex with degree d_min\n",
    "        else:\n",
    "            # remove the vertex from A\n",
    "            vertex = arrA[d_min].pop()\n",
    "            # for each neighbor of A\n",
    "            for neigh in adj[vertex]:\n",
    "                # find its degree\n",
    "                neigh_degree = arrB[neigh]\n",
    "                # move the neighbor in A to its new degree list\n",
    "                arrA[neigh_degree].remove(neigh)\n",
    "                arrA[neigh_degree - 1].append(neigh)\n",
    "                # decrease its degree in B\n",
    "                arrB[neigh] -= 1\n",
    "                # remove vertex from the adjacency list of its neighbor\n",
    "                adj[neigh].remove(vertex)\n",
    "            # compute the coreness of the vertex\n",
    "            k = max(k, d_min)\n",
    "            deg[vertex] = k\n",
    "            # decrease d_min to consider possible ex-neighbors of vertex\n",
    "            d_min -= 1\n",
    "            \n",
    "    return deg"
   ]
  },
  {
   "cell_type": "code",
   "execution_count": 83,
   "metadata": {},
   "outputs": [],
   "source": [
    "deg = degeneracy(g)"
   ]
  },
  {
   "cell_type": "code",
   "execution_count": 84,
   "metadata": {},
   "outputs": [
    {
     "name": "stdout",
     "output_type": "stream",
     "text": [
      "implementation is correct: True\n"
     ]
    }
   ],
   "source": [
    "# check if implementation gives the correct result\n",
    "is_correct = np.all(np.equal(deg, g.coreness()))\n",
    "print(f'implementation is correct: {is_correct}')"
   ]
  },
  {
   "cell_type": "code",
   "execution_count": null,
   "metadata": {},
   "outputs": [],
   "source": []
  }
 ],
 "metadata": {
  "kernelspec": {
   "display_name": "graphrep",
   "language": "python",
   "name": "graphrep"
  },
  "language_info": {
   "codemirror_mode": {
    "name": "ipython",
    "version": 3
   },
   "file_extension": ".py",
   "mimetype": "text/x-python",
   "name": "python",
   "nbconvert_exporter": "python",
   "pygments_lexer": "ipython3",
   "version": "3.9.7"
  }
 },
 "nbformat": 4,
 "nbformat_minor": 4
}
