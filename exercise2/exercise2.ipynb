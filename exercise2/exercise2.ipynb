{
 "cells": [
  {
   "cell_type": "markdown",
   "metadata": {},
   "source": [
    "## 3 Degeneracy"
   ]
  },
  {
   "cell_type": "code",
   "execution_count": 44,
   "metadata": {},
   "outputs": [],
   "source": [
    "import igraph\n",
    "import numpy as np"
   ]
  },
  {
   "cell_type": "code",
   "execution_count": 51,
   "metadata": {},
   "outputs": [],
   "source": [
    "g = igraph.Graph.Read_Pickle('ogbn-arxiv.pickle')\n",
    "g = g.as_undirected()"
   ]
  },
  {
   "cell_type": "code",
   "execution_count": 70,
   "metadata": {},
   "outputs": [],
   "source": [
    "def degeneracy(g):\n",
    "    adj = g.get_adjlist()\n",
    "    deg = np.zeros((g.vcount()))\n",
    "    \n",
    "    arrA = [[] for _ in range(g.vcount())]\n",
    "    arrB = g.degree(range(g.vcount()))\n",
    "    for i, degree in enumerate(arrB):\n",
    "        arrA[degree].append(i)\n",
    "    \n",
    "    k = d_min = 0        \n",
    "    while d_min < g.vcount():\n",
    "        if arrA[d_min] == []:\n",
    "            d_min += 1\n",
    "        else:\n",
    "            vertex = arrA[d_min].pop()\n",
    "            for neigh in adj[vertex]:\n",
    "                neigh_degree = arrB[neigh]\n",
    "                arrA[neigh_degree].remove(neigh)\n",
    "                arrA[neigh_degree - 1].append(neigh)\n",
    "                arrB[neigh] -= 1\n",
    "                adj[neigh].remove(vertex)\n",
    "            k = max(k, d_min)\n",
    "            deg[vertex] = k\n",
    "            d_min -= 1\n",
    "            \n",
    "    return deg\n",
    "    \n",
    "    \n",
    "    \n",
    "deg = degeneracy(g)"
   ]
  },
  {
   "cell_type": "code",
   "execution_count": 71,
   "metadata": {},
   "outputs": [
    {
     "name": "stdout",
     "output_type": "stream",
     "text": [
      "[0. 0. 0. ... 0. 0. 0.]\n"
     ]
    }
   ],
   "source": [
    "print(deg - g.coreness())\n"
   ]
  },
  {
   "cell_type": "code",
   "execution_count": null,
   "metadata": {},
   "outputs": [],
   "source": []
  }
 ],
 "metadata": {
  "kernelspec": {
   "display_name": "graphrep",
   "language": "python",
   "name": "graphrep"
  },
  "language_info": {
   "codemirror_mode": {
    "name": "ipython",
    "version": 3
   },
   "file_extension": ".py",
   "mimetype": "text/x-python",
   "name": "python",
   "nbconvert_exporter": "python",
   "pygments_lexer": "ipython3",
   "version": "3.9.7"
  }
 },
 "nbformat": 4,
 "nbformat_minor": 4
}
