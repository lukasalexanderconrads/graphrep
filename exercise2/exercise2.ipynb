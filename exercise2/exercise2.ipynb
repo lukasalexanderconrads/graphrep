{
 "cells": [
  {
   "cell_type": "markdown",
   "metadata": {},
   "source": [
    "## 1 Counting paths in graphlets"
   ]
  },
  {
   "cell_type": "code",
   "execution_count": 1,
   "metadata": {},
   "outputs": [],
   "source": [
    "import numpy as np\n",
    "import igraph as ig\n",
    "\n",
    "#create the depicted graphs unter 1.2)\n",
    "g1 = ig.Graph()\n",
    "g1.add_vertices(4)\n",
    "g1.add_edges([(0,1),(1,2),(1,3),(2,3)])\n",
    "#print(g1)\n",
    "\n",
    "g2 = ig.Graph()\n",
    "g2.add_vertices(4)\n",
    "g2.add_edges([(0,1),(1,2),(1,3),(2,3),(0,3)])\n",
    "#print(g2)\n",
    "\n",
    "g3 = ig.Graph()\n",
    "g3.add_vertices(5)\n",
    "g3.add_edges([(0,2),(0,3),(1,2),(2,3),(3,4),(1,4)])\n",
    "#print(g3)\n",
    "\n",
    "g4 = ig.Graph()\n",
    "g4.add_vertices(5)\n",
    "g4.add_edges([(0,4),(1,4),(1,3),(1,2),(2,3),(3,4)])\n",
    "#print(g4)\n",
    "\n",
    "g5 = ig.Graph()\n",
    "g5.add_vertices(5)\n",
    "g5.add_edges([(0,1),(1,2),(2,3),(3,4),(4,0),(0,2),(2,4),(1,3)])\n",
    "#print(g5)\n"
   ]
  },
  {
   "cell_type": "code",
   "execution_count": 4,
   "metadata": {},
   "outputs": [],
   "source": [
    "#1.1)\n",
    "k = np.array([3,4,5])\n",
    "k=3\n",
    "\n",
    "#implement DFS\n",
    "def init_algo(g):\n",
    "    #for every start node, span a new directed tree and sum the count of \"complete\" paths \n",
    "    sum = 0\n",
    "    for v in g.vs:\n",
    "        c = ig.Graph() #create a new empty graph c\n",
    "        c.to_directed() \n",
    "        n = 0\n",
    "        c.add_vertices(1) #add the baase vertex\n",
    "        c.vs[n]['num']=v.index #label it the its index in graph g\n",
    "        count_paths(g,c,n)\n",
    "        \n",
    "        #get the in-neighboorhood (order = #node if graph g) of each node in graph c and store it in an array.\n",
    "        #where we have a size of the neighborhood = the node count of graph g: we know that this path connect all nodes\n",
    "        res = np.where(np.array([len(v) for v in c.neighborhood(c.vs,order=g1.vcount(),mode='in')]) == g1.vcount(),1,0)\n",
    "        sum += np.sum(res) #get only those \"complete\" paths \n",
    "    return sum\n",
    "    \n",
    "def count_paths(g,c,n): \n",
    "    #get all predecessors of the current lastly added node and get their labels (not indices!)\n",
    "    pred = c.neighborhood(c.vs[n],order=g.vcount(),mode=\"in\")\n",
    "    pred = np.array([c.vs[v]['num'] for v in pred])\n",
    "    #for each neighbor of the current node in g check whether it was already part of the new path in c.\n",
    "    for neigh in g.neighbors(g.vs[c.vs[n]['num']]):\n",
    "        cut = False   \n",
    "        if neigh in pred: #if it was in the path in c already, cut branch\n",
    "            cut = True\n",
    "        if not cut: #otherwise, add it as a new node with the correct label and continue with its neighbors in graph g\n",
    "            c.add_vertices(1)\n",
    "            c.add_edges([(n,c.vcount()-1)])        \n",
    "            c.vs[c.vcount()-1]['num'] = neigh\n",
    "            count_paths(g,c,c.vcount()-1)"
   ]
  },
  {
   "cell_type": "code",
   "execution_count": 5,
   "metadata": {},
   "outputs": [
    {
     "name": "stdout",
     "output_type": "stream",
     "text": [
      "g1 path count:  4\n",
      "g2 path count:  12\n",
      "g3 path count:  20\n",
      "g4 path count:  20\n",
      "g5 path count:  56\n"
     ]
    }
   ],
   "source": [
    "#count possible paths:\n",
    "count = init_algo(g1)\n",
    "print(\"g1 path count: \",count)\n",
    "\n",
    "count = init_algo(g2)\n",
    "print(\"g2 path count: \",count)\n",
    "\n",
    "count = init_algo(g3)\n",
    "print(\"g3 path count: \",count)\n",
    "\n",
    "count = init_algo(g4)\n",
    "print(\"g4 path count: \",count)\n",
    "\n",
    "count = init_algo(g5)\n",
    "print(\"g5 path count: \",count)"
   ]
  },
  {
   "cell_type": "markdown",
   "metadata": {},
   "source": [
    "## 3 Degeneracy"
   ]
  },
  {
   "cell_type": "code",
   "execution_count": 72,
   "metadata": {},
   "outputs": [],
   "source": [
    "import igraph\n",
    "import numpy as np"
   ]
  },
  {
   "cell_type": "code",
   "execution_count": 81,
   "metadata": {},
   "outputs": [],
   "source": [
    "# load the graph as undirected\n",
    "g = igraph.Graph.Read_Pickle('ogbn-arxiv.pickle').as_undirected()"
   ]
  },
  {
   "cell_type": "code",
   "execution_count": 82,
   "metadata": {},
   "outputs": [],
   "source": [
    "def degeneracy(g):\n",
    "    # get adjacency list\n",
    "    adj = g.get_adjlist()\n",
    "    # create result array\n",
    "    deg = np.zeros((g.vcount()))\n",
    "    # create A\n",
    "    arrA = [[] for _ in range(g.vcount())]\n",
    "    # create B and init with degreee of each vertex\n",
    "    arrB = g.degree(range(g.vcount()))\n",
    "    # fill A with lists of vertices that have each degree\n",
    "    for i, degree in enumerate(arrB):\n",
    "        arrA[degree].append(i)\n",
    "    \n",
    "    # loop over all degrees \n",
    "    k = d_min = 0        \n",
    "    while d_min < g.vcount():\n",
    "        # if there are no vertices with degree d_min, consider d_min + 1\n",
    "        if arrA[d_min] == []:\n",
    "            d_min += 1\n",
    "        # otherwise, consider a vertex with degree d_min\n",
    "        else:\n",
    "            # remove the vertex from A\n",
    "            vertex = arrA[d_min].pop()\n",
    "            # for each neighbor of A\n",
    "            for neigh in adj[vertex]:\n",
    "                # find its degree\n",
    "                neigh_degree = arrB[neigh]\n",
    "                # move the neighbor in A to its new degree list\n",
    "                arrA[neigh_degree].remove(neigh)\n",
    "                arrA[neigh_degree - 1].append(neigh)\n",
    "                # decrease its degree in B\n",
    "                arrB[neigh] -= 1\n",
    "                # remove vertex from the adjacency list of its neighbor\n",
    "                adj[neigh].remove(vertex)\n",
    "            # compute the coreness of the vertex\n",
    "            k = max(k, d_min)\n",
    "            deg[vertex] = k\n",
    "            # decrease d_min to consider possible ex-neighbors of vertex\n",
    "            d_min -= 1\n",
    "            \n",
    "    return deg"
   ]
  },
  {
   "cell_type": "code",
   "execution_count": 83,
   "metadata": {},
   "outputs": [],
   "source": [
    "deg = degeneracy(g)"
   ]
  },
  {
   "cell_type": "code",
   "execution_count": 84,
   "metadata": {},
   "outputs": [
    {
     "name": "stdout",
     "output_type": "stream",
     "text": [
      "implementation is correct: True\n"
     ]
    }
   ],
   "source": [
    "# check if implementation gives the correct result\n",
    "is_correct = np.all(np.equal(deg, g.coreness()))\n",
    "print(f'implementation is correct: {is_correct}')"
   ]
  },
  {
   "cell_type": "code",
   "execution_count": null,
   "metadata": {},
   "outputs": [],
   "source": []
  }
 ],
 "metadata": {
  "kernelspec": {
   "display_name": "Python 3",
   "language": "python",
   "name": "python3"
  },
  "language_info": {
   "codemirror_mode": {
    "name": "ipython",
    "version": 3
   },
   "file_extension": ".py",
   "mimetype": "text/x-python",
   "name": "python",
   "nbconvert_exporter": "python",
   "pygments_lexer": "ipython3",
   "version": "3.8.5"
  }
 },
 "nbformat": 4,
 "nbformat_minor": 4
}
